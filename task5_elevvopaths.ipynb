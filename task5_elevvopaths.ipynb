{
  "nbformat": 4,
  "nbformat_minor": 0,
  "metadata": {
    "colab": {
      "provenance": [],
      "authorship_tag": "ABX9TyOc/oLREAYB0kIgO1LAQjW6",
      "include_colab_link": true
    },
    "kernelspec": {
      "name": "python3",
      "display_name": "Python 3"
    },
    "language_info": {
      "name": "python"
    }
  },
  "cells": [
    {
      "cell_type": "markdown",
      "metadata": {
        "id": "view-in-github",
        "colab_type": "text"
      },
      "source": [
        "<a href=\"https://colab.research.google.com/github/laylamoguibmm/Tasks/blob/main/task5_elevvopaths.ipynb\" target=\"_parent\"><img src=\"https://colab.research.google.com/assets/colab-badge.svg\" alt=\"Open In Colab\"/></a>"
      ]
    },
    {
      "cell_type": "code",
      "source": [
        "# ===============================\n",
        "# 1. IMPORT LIBRARIES\n",
        "# ===============================\n",
        "import pandas as pd\n",
        "import numpy as np\n",
        "from sklearn.metrics.pairwise import cosine_similarity\n",
        "from sklearn.metrics import precision_score\n",
        "from surprise import SVD, Dataset, Reader\n",
        "from surprise.model_selection import train_test_split\n",
        "from collections import defaultdict\n",
        "\n",
        "# ===============================\n",
        "# 2. LOAD MOVIELENS DATASET\n",
        "# ===============================\n",
        
        "ratings_file = \"/content/u.data\"\n",
        "movies_file = \"/content/u.item\"\n",
        "\n",
        "# Load ratings\n",
        "ratings_columns = ['userId', 'movieId', 'rating', 'timestamp']\n",
        "ratings = pd.read_csv(ratings_file, sep='\\t', names=ratings_columns, encoding='latin-1')\n",
        "\n",
        "# Load movie titles\n",
        "movies_columns = ['movieId', 'title', 'release_date', 'video_release', 'IMDb_url', 'unknown', 'Action', 'Adventure', 'Animation',\n",
        "                  'Children', 'Comedy', 'Crime', 'Documentary', 'Drama', 'Fantasy', 'Film-Noir', 'Horror',\n",
        "                  'Musical', 'Mystery', 'Romance', 'Sci-Fi', 'Thriller', 'War', 'Western']\n",
        "movies = pd.read_csv(movies_file, sep='|', names=movies_columns, encoding='latin-1')\n",
        "\n",
        "# Merge ratings and movies\n",
        "data = pd.merge(ratings, movies[['movieId', 'title']], on='movieId')\n",
        "print(\"Dataset Shape:\", data.shape)\n",
        "print(data.head())\n",
        "\n",
        "# ===============================\n",
        "# 3. CREATE USER-ITEM MATRIX\n",
        "# ===============================\n",
        "user_item_matrix = data.pivot_table(index='userId', columns='title', values='rating')\n",
        "print(\"User-Item Matrix Shape:\", user_item_matrix.shape)\n",
        "\n",
        "# ===============================\n",
        "# 4. ITEM-BASED COLLABORATIVE FILTERING\n",
        "# ===============================\n",
        "# Compute cosine similarity between items (movies)\n",
        "item_similarity = cosine_similarity(user_item_matrix.T.fillna(0))\n",
        "item_similarity_df = pd.DataFrame(item_similarity, index=user_item_matrix.columns, columns=user_item_matrix.columns)\n",
        "\n",
        "def recommend_similar_movies(movie_name, top_n=10):\n",
        "    if movie_name not in item_similarity_df:\n",
        "        return \"Movie not found!\"\n",
        "    similar_scores = item_similarity_df[movie_name].sort_values(ascending=False)\n",
        "    return similar_scores.iloc[1:top_n+1].index.tolist()\n",
        "\n",
        "print(\"Similar movies to 'Toy Story (1995)':\")\n",
        "print(recommend_similar_movies(\"Toy Story (1995)\", top_n=5))\n",
        "\n",
        "# ===============================\n",
        "# 5. USER-BASED RECOMMENDATION (TOP UNSEEN MOVIES)\n",
        "# ===============================\n",
        "user_similarity = cosine_similarity(user_item_matrix.fillna(0))\n",
        "user_similarity_df = pd.DataFrame(user_similarity, index=user_item_matrix.index, columns=user_item_matrix.index)\n",
        "\n",
        "def recommend_for_user(user_id, top_n=10):\n",
        "    if user_id not in user_similarity_df:\n",
        "        return \"User not found!\"\n",
        "    # Find similar users\n",
        "    similar_users = user_similarity_df[user_id].sort_values(ascending=False).iloc[1:6].index\n",
        "    # Collect movies rated by similar users\n",
        "    similar_users_ratings = user_item_matrix.loc[similar_users].mean().sort_values(ascending=False)\n",
        "    # Filter out movies the user has already rated\n",
        "    movies_rated = user_item_matrix.loc[user_id].dropna().index\n",
        "    recommendations = similar_users_ratings.drop(movies_rated).head(top_n)\n",
        "    return recommendations.index.tolist()\n",
        "\n",
        "print(\"Recommended movies for User 1:\")\n",
        "print(recommend_for_user(1, top_n=5))\n",
        "\n",
        "# ===============================\n",
        "# 6. MATRIX FACTORIZATION (SVD)\n",
        "# ===============================\n",
        "reader = Reader(rating_scale=(1, 5))\n",
        "surprise_data = Dataset.load_from_df(data[['userId', 'movieId', 'rating']], reader)\n",
        "trainset, testset = train_test_split(surprise_data, test_size=0.2)\n",
        "\n",
        "svd = SVD()\n",
        "svd.fit(trainset)\n",
        "predictions = svd.test(testset)\n",
        "\n",
        "# ===============================\n",
        "# 7. EVALUATE PRECISION@K\n",
        "# ===============================\n",
        "def precision_at_k(predictions, k=10, threshold=3.5):\n",
        "    user_est_true = defaultdict(list)\n",
        "    for uid, _, true_r, est, _ in predictions:\n",
        "        user_est_true[uid].append((est, true_r))\n",
        "\n",
        "    precisions = dict()\n",
        "    for uid, user_ratings in user_est_true.items():\n",
        "        user_ratings.sort(key=lambda x: x[0], reverse=True)\n",
        "        top_k = user_ratings[:k]\n",
        "        precisions[uid] = sum((true_r >= threshold) for (_, true_r) in top_k) / k\n",
        "\n",
        "    return sum(prec for prec in precisions.values()) / len(precisions)\n",
        "\n",
        "print(\"Precision@10:\", precision_at_k(predictions, k=10))\n"
      ],
      "metadata": {
        "colab": {
          "base_uri": "https://localhost:8080/"
        },
        "id": "_D9Rh-bHDLFo",
        "outputId": "a31cb617-6349-45a0-a6c1-586898bf1fa4"
      },
      "execution_count": 11,
      "outputs": [
        {
          "output_type": "stream",
          "name": "stdout",
          "text": [
            "Dataset Shape: (100000, 5)\n",
            "   userId  movieId  rating  timestamp                       title\n",
            "0     196      242       3  881250949                Kolya (1996)\n",
            "1     186      302       3  891717742    L.A. Confidential (1997)\n",
            "2      22      377       1  878887116         Heavyweights (1994)\n",
            "3     244       51       2  880606923  Legends of the Fall (1994)\n",
            "4     166      346       1  886397596         Jackie Brown (1997)\n",
            "User-Item Matrix Shape: (943, 1664)\n",
            "Similar movies to 'Toy Story (1995)':\n",
            "['Star Wars (1977)', 'Return of the Jedi (1983)', 'Independence Day (ID4) (1996)', 'Rock, The (1996)', 'Mission: Impossible (1996)']\n",
            "Recommended movies for User 1:\n",
            "['Secrets & Lies (1996)', 'Alien: Resurrection (1997)', 'Hamlet (1996)', 'Shadowlands (1993)', 'Some Folks Call It a Sling Blade (1993)']\n",
            "Precision@10: 0.5769883351007423\n"
          ]
        }
      ]
    }
  ]
}
